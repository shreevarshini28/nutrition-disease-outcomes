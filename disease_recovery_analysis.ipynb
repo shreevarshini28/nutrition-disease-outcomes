{
 "cells": [
  {
   "cell_type": "markdown",
   "id": "7fc81286",
   "metadata": {},
   "source": [
    "# 🥗 Impact of Nutrition on Disease Outcomes\n",
    "This notebook analyzes how different diet types (High Fiber vs. Standard) influence patient recovery time."
   ]
  },
  {
   "cell_type": "code",
   "execution_count": null,
   "id": "3a45ae7c",
   "metadata": {},
   "outputs": [],
   "source": [
    "import pandas as pd\n",
    "import matplotlib.pyplot as plt\n",
    "import seaborn as sns"
   ]
  },
  {
   "cell_type": "code",
   "execution_count": null,
   "id": "b15fed25",
   "metadata": {},
   "outputs": [],
   "source": [
    "# Load the dataset\n",
    "df = pd.read_excel('nutrition_recovery_data.xlsx')\n",
    "df.head()"
   ]
  },
  {
   "cell_type": "code",
   "execution_count": null,
   "id": "d5bc21b8",
   "metadata": {},
   "outputs": [],
   "source": [
    "# Summary statistics by diet type\n",
    "df.groupby('Diet_Type')['Recovery_Time_Days'].describe()"
   ]
  },
  {
   "cell_type": "code",
   "execution_count": null,
   "id": "a593d315",
   "metadata": {},
   "outputs": [],
   "source": [
    "# Boxplot comparing recovery times\n",
    "plt.figure(figsize=(8, 5))\n",
    "sns.boxplot(x='Diet_Type', y='Recovery_Time_Days', data=df, palette='Set2')\n",
    "plt.title('Recovery Time by Diet Type')\n",
    "plt.ylabel('Recovery Time (Days)')\n",
    "plt.xlabel('Diet Type')\n",
    "plt.tight_layout()\n",
    "plt.show()"
   ]
  }
 ],
 "metadata": {},
 "nbformat": 4,
 "nbformat_minor": 5
}
